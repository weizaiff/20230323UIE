{
 "cells": [
  {
   "cell_type": "markdown",
   "id": "3add14b3-b2aa-485c-99e7-0efbcc3dbb55",
   "metadata": {},
   "source": [
    "# UIE"
   ]
  },
  {
   "cell_type": "code",
   "execution_count": 6,
   "id": "82b77246-0999-4102-9f24-3e49c7c47413",
   "metadata": {},
   "outputs": [],
   "source": [
    "import json\n",
    "from datasets import load_dataset"
   ]
  },
  {
   "cell_type": "code",
   "execution_count": 7,
   "id": "a7dea6fe-1ace-43c6-913e-0154aaaba883",
   "metadata": {},
   "outputs": [],
   "source": []
  },
  {
   "cell_type": "markdown",
   "id": "54746d91-7f27-4b51-8916-a6f58fe11cee",
   "metadata": {},
   "source": [
    "## 一个样例"
   ]
  },
  {
   "cell_type": "code",
   "execution_count": null,
   "id": "1cfd8cff-baad-44b5-b447-9684c97cd8fc",
   "metadata": {},
   "outputs": [],
   "source": []
  },
  {
   "cell_type": "code",
   "execution_count": 12,
   "id": "fdb7e35b-912f-4fb3-9d37-da2ed92c14bb",
   "metadata": {},
   "outputs": [],
   "source": [
    "with open(data_files['test'],'r') as f:\n",
    "    #for line in f.readlines():\n",
    "    testdata = (json.loads(f.read()))\n",
    "    "
   ]
  },
  {
   "cell_type": "code",
   "execution_count": 13,
   "id": "da4268fd-f562-49ea-9538-c916e9e2084e",
   "metadata": {},
   "outputs": [
    {
     "data": {
      "text/plain": [
       "{'context': \"Xinhua News Agency , Urumchi , September 1st , by reporters Shengjiang Li and Jian ' gang Ding\",\n",
       " 'end_position': [4],\n",
       " 'entity_label': 'GPE',\n",
       " 'impossible': False,\n",
       " 'qas_id': '0.1',\n",
       " 'query': 'geographical political entities are geographical regions defined by political and or social groups such as countries, nations, regions, cities, states, government and its people.',\n",
       " 'span_position': ['4;4'],\n",
       " 'start_position': [4]}"
      ]
     },
     "execution_count": 13,
     "metadata": {},
     "output_type": "execute_result"
    }
   ],
   "source": [
    "testdata[0]"
   ]
  },
  {
   "cell_type": "markdown",
   "id": "c73f5cde-8cac-4024-b11a-7d41d31af4dc",
   "metadata": {},
   "source": [
    "- 转成需要的格式 after(run_data_generation.bash&&uie_convert.py)\n",
    "     - mrc_ace04/test.json"
   ]
  },
  {
   "cell_type": "code",
   "execution_count": 14,
   "id": "61314fc6-5907-4994-8a1d-2642f896bdd5",
   "metadata": {},
   "outputs": [],
   "source": [
    "a = {\"text\": \"Xinhua News Agency , Urumchi , September 1st , by reporters Shengjiang Li and Jian ' gang Ding\", \"tokens\": [\"Xinhua\", \"News\", \"Agency\", \",\", \"Urumchi\", \",\", \"September\", \"1st\", \",\", \"by\", \"reporters\", \"Shengjiang\", \"Li\", \"and\", \"Jian\", \"'\", \"gang\", \"Ding\"], \"record\": \"<extra_id_0> <extra_id_0> organization <extra_id_5> Xinhua News Agency <extra_id_1> <extra_id_0> geographical social political <extra_id_5> Urumchi <extra_id_1> <extra_id_0> person <extra_id_5> reporters <extra_id_1> <extra_id_0> person <extra_id_5> Shengjiang Li <extra_id_1> <extra_id_0> person <extra_id_5> Jian ' gang Ding <extra_id_1> <extra_id_1>\", \"entity\": [{\"type\": \"geographical social political\", \"offset\": [4], \"text\": \"Urumchi\"}, {\"type\": \"organization\", \"offset\": [0, 1, 2], \"text\": \"Xinhua News Agency\"}, {\"type\": \"person\", \"offset\": [10], \"text\": \"reporters\"}, {\"type\": \"person\", \"offset\": [11, 12], \"text\": \"Shengjiang Li\"}, {\"type\": \"person\", \"offset\": [14, 15, 16, 17], \"text\": \"Jian ' gang Ding\"}], \"relation\": [], \"event\": [], \"spot\": [\"geographical social political\", \"person\", \"organization\"], \"asoc\": [], \"spot_asoc\": [{\"span\": \"Xinhua News Agency\", \"label\": \"organization\", \"asoc\": []}, {\"span\": \"Urumchi\", \"label\": \"geographical social political\", \"asoc\": []}, {\"span\": \"reporters\", \"label\": \"person\", \"asoc\": []}, {\"span\": \"Shengjiang Li\", \"label\": \"person\", \"asoc\": []}, {\"span\": \"Jian ' gang Ding\", \"label\": \"person\", \"asoc\": []}]}"
   ]
  },
  {
   "cell_type": "code",
   "execution_count": 17,
   "id": "63b9c83d-7b08-4e92-a092-d3537692f377",
   "metadata": {},
   "outputs": [
    {
     "data": {
      "text/plain": [
       "{'text': \"Xinhua News Agency , Urumchi , September 1st , by reporters Shengjiang Li and Jian ' gang Ding\",\n",
       " 'tokens': ['Xinhua',\n",
       "  'News',\n",
       "  'Agency',\n",
       "  ',',\n",
       "  'Urumchi',\n",
       "  ',',\n",
       "  'September',\n",
       "  '1st',\n",
       "  ',',\n",
       "  'by',\n",
       "  'reporters',\n",
       "  'Shengjiang',\n",
       "  'Li',\n",
       "  'and',\n",
       "  'Jian',\n",
       "  \"'\",\n",
       "  'gang',\n",
       "  'Ding'],\n",
       " 'record': \"<extra_id_0> <extra_id_0> organization <extra_id_5> Xinhua News Agency <extra_id_1> <extra_id_0> geographical social political <extra_id_5> Urumchi <extra_id_1> <extra_id_0> person <extra_id_5> reporters <extra_id_1> <extra_id_0> person <extra_id_5> Shengjiang Li <extra_id_1> <extra_id_0> person <extra_id_5> Jian ' gang Ding <extra_id_1> <extra_id_1>\",\n",
       " 'entity': [{'type': 'geographical social political',\n",
       "   'offset': [4],\n",
       "   'text': 'Urumchi'},\n",
       "  {'type': 'organization', 'offset': [0, 1, 2], 'text': 'Xinhua News Agency'},\n",
       "  {'type': 'person', 'offset': [10], 'text': 'reporters'},\n",
       "  {'type': 'person', 'offset': [11, 12], 'text': 'Shengjiang Li'},\n",
       "  {'type': 'person', 'offset': [14, 15, 16, 17], 'text': \"Jian ' gang Ding\"}],\n",
       " 'relation': [],\n",
       " 'event': [],\n",
       " 'spot': ['geographical social political', 'person', 'organization'],\n",
       " 'asoc': [],\n",
       " 'spot_asoc': [{'span': 'Xinhua News Agency',\n",
       "   'label': 'organization',\n",
       "   'asoc': []},\n",
       "  {'span': 'Urumchi', 'label': 'geographical social political', 'asoc': []},\n",
       "  {'span': 'reporters', 'label': 'person', 'asoc': []},\n",
       "  {'span': 'Shengjiang Li', 'label': 'person', 'asoc': []},\n",
       "  {'span': \"Jian ' gang Ding\", 'label': 'person', 'asoc': []}]}"
      ]
     },
     "metadata": {},
     "output_type": "display_data"
    }
   ],
   "source": [
    "display(a)"
   ]
  },
  {
   "cell_type": "markdown",
   "id": "8d3ec4c7-5fbd-4616-bc34-890c68abce19",
   "metadata": {},
   "source": [
    "- 测试load_dataset的结果"
   ]
  },
  {
   "cell_type": "code",
   "execution_count": 19,
   "id": "76443246-d270-464a-beac-c89ad20887f5",
   "metadata": {},
   "outputs": [],
   "source": [
    "with open('test_a_sample_ace04.json', 'w') as f:\n",
    "    json.dump(a, f)"
   ]
  },
  {
   "cell_type": "code",
   "execution_count": 20,
   "id": "e74c878b-4d02-42d9-979b-facccf0d9ddb",
   "metadata": {},
   "outputs": [],
   "source": [
    "# data_files={}\n",
    "data_files['test'] = 'test_a_sample_ace04.json'"
   ]
  },
  {
   "cell_type": "code",
   "execution_count": 21,
   "id": "d0f71e7c-9b23-4485-9302-e69e48921803",
   "metadata": {},
   "outputs": [
    {
     "name": "stderr",
     "output_type": "stream",
     "text": [
      "Using custom data configuration default-c674620733b87736\n"
     ]
    },
    {
     "name": "stdout",
     "output_type": "stream",
     "text": [
      "Downloading and preparing dataset json/default to /Users/van/.cache/huggingface/datasets/json/default-c674620733b87736/0.0.0/d3229fbdd74a18b21557c1cd3d7e961ea13fb58e6996296287b82fd0a317d86e...\n"
     ]
    },
    {
     "data": {
      "application/vnd.jupyter.widget-view+json": {
       "model_id": "8399a38aed974107af575fdebf26a492",
       "version_major": 2,
       "version_minor": 0
      },
      "text/plain": [
       "Downloading data files:   0%|          | 0/1 [00:00<?, ?it/s]"
      ]
     },
     "metadata": {},
     "output_type": "display_data"
    },
    {
     "data": {
      "application/vnd.jupyter.widget-view+json": {
       "model_id": "a25e27ae88e24c208120e766a66e011e",
       "version_major": 2,
       "version_minor": 0
      },
      "text/plain": [
       "Extracting data files:   0%|          | 0/1 [00:00<?, ?it/s]"
      ]
     },
     "metadata": {},
     "output_type": "display_data"
    },
    {
     "name": "stdout",
     "output_type": "stream",
     "text": [
      "text: string\n",
      "tokens: list<item: string>\n",
      "  child 0, item: string\n",
      "record: string\n",
      "entity: list<item: struct<type: string, offset: list<item: int64>, text: string>>\n",
      "  child 0, item: struct<type: string, offset: list<item: int64>, text: string>\n",
      "      child 0, type: string\n",
      "      child 1, offset: list<item: int64>\n",
      "          child 0, item: int64\n",
      "      child 2, text: string\n",
      "relation: list<item: struct<type: string, args: list<item: struct<type: string, offset: list<item: int64>, text: string>>>>\n",
      "  child 0, item: struct<type: string, args: list<item: struct<type: string, offset: list<item: int64>, text: string>>>\n",
      "      child 0, type: string\n",
      "      child 1, args: list<item: struct<type: string, offset: list<item: int64>, text: string>>\n",
      "          child 0, item: struct<type: string, offset: list<item: int64>, text: string>\n",
      "              child 0, type: string\n",
      "              child 1, offset: list<item: int64>\n",
      "                  child 0, item: int64\n",
      "              child 2, text: string\n",
      "event: list<item: struct<type: string, offset: list<item: int64>, text: string, args: list<item: struct<type: string, offset: list<item: int64>, text: string>>>>\n",
      "  child 0, item: struct<type: string, offset: list<item: int64>, text: string, args: list<item: struct<type: string, offset: list<item: int64>, text: string>>>\n",
      "      child 0, type: string\n",
      "      child 1, offset: list<item: int64>\n",
      "          child 0, item: int64\n",
      "      child 2, text: string\n",
      "      child 3, args: list<item: struct<type: string, offset: list<item: int64>, text: string>>\n",
      "          child 0, item: struct<type: string, offset: list<item: int64>, text: string>\n",
      "              child 0, type: string\n",
      "              child 1, offset: list<item: int64>\n",
      "                  child 0, item: int64\n",
      "              child 2, text: string\n",
      "spot: list<item: string>\n",
      "  child 0, item: string\n",
      "asoc: list<item: string>\n",
      "  child 0, item: string\n",
      "spot_asoc: list<item: struct<span: string, label: string, asoc: list<item: list<item: string>>>>\n",
      "  child 0, item: struct<span: string, label: string, asoc: list<item: list<item: string>>>\n",
      "      child 0, span: string\n",
      "      child 1, label: string\n",
      "      child 2, asoc: list<item: list<item: string>>\n",
      "          child 0, item: list<item: string>\n",
      "              child 0, item: string\n",
      "Dataset json downloaded and prepared to /Users/van/.cache/huggingface/datasets/json/default-c674620733b87736/0.0.0/d3229fbdd74a18b21557c1cd3d7e961ea13fb58e6996296287b82fd0a317d86e. Subsequent calls will reuse this data.\n"
     ]
    },
    {
     "data": {
      "application/vnd.jupyter.widget-view+json": {
       "model_id": "69aa7ddc9a544d71a3510ccba504c425",
       "version_major": 2,
       "version_minor": 0
      },
      "text/plain": [
       "  0%|          | 0/1 [00:00<?, ?it/s]"
      ]
     },
     "metadata": {},
     "output_type": "display_data"
    }
   ],
   "source": [
    "datasets = load_dataset(\"uie_json.py\", data_files=data_files)"
   ]
  },
  {
   "cell_type": "code",
   "execution_count": 27,
   "id": "e8023c90-d890-45cf-958e-370bccf2c8f1",
   "metadata": {},
   "outputs": [
    {
     "name": "stdout",
     "output_type": "stream",
     "text": [
      "True\n"
     ]
    },
    {
     "data": {
      "text/plain": [
       "{'text': \"Xinhua News Agency , Urumchi , September 1st , by reporters Shengjiang Li and Jian ' gang Ding\",\n",
       " 'tokens': ['Xinhua',\n",
       "  'News',\n",
       "  'Agency',\n",
       "  ',',\n",
       "  'Urumchi',\n",
       "  ',',\n",
       "  'September',\n",
       "  '1st',\n",
       "  ',',\n",
       "  'by',\n",
       "  'reporters',\n",
       "  'Shengjiang',\n",
       "  'Li',\n",
       "  'and',\n",
       "  'Jian',\n",
       "  \"'\",\n",
       "  'gang',\n",
       "  'Ding'],\n",
       " 'record': \"<extra_id_0> <extra_id_0> organization <extra_id_5> Xinhua News Agency <extra_id_1> <extra_id_0> geographical social political <extra_id_5> Urumchi <extra_id_1> <extra_id_0> person <extra_id_5> reporters <extra_id_1> <extra_id_0> person <extra_id_5> Shengjiang Li <extra_id_1> <extra_id_0> person <extra_id_5> Jian ' gang Ding <extra_id_1> <extra_id_1>\",\n",
       " 'entity': [{'type': 'geographical social political',\n",
       "   'offset': [4],\n",
       "   'text': 'Urumchi'},\n",
       "  {'type': 'organization', 'offset': [0, 1, 2], 'text': 'Xinhua News Agency'},\n",
       "  {'type': 'person', 'offset': [10], 'text': 'reporters'},\n",
       "  {'type': 'person', 'offset': [11, 12], 'text': 'Shengjiang Li'},\n",
       "  {'type': 'person', 'offset': [14, 15, 16, 17], 'text': \"Jian ' gang Ding\"}],\n",
       " 'relation': [],\n",
       " 'event': [],\n",
       " 'spot': ['geographical social political', 'person', 'organization'],\n",
       " 'asoc': [],\n",
       " 'spot_asoc': [{'span': 'Xinhua News Agency',\n",
       "   'label': 'organization',\n",
       "   'asoc': []},\n",
       "  {'span': 'Urumchi', 'label': 'geographical social political', 'asoc': []},\n",
       "  {'span': 'reporters', 'label': 'person', 'asoc': []},\n",
       "  {'span': 'Shengjiang Li', 'label': 'person', 'asoc': []},\n",
       "  {'span': \"Jian ' gang Ding\", 'label': 'person', 'asoc': []}]}"
      ]
     },
     "metadata": {},
     "output_type": "display_data"
    }
   ],
   "source": [
    "for ibatch in datasets['test']:\n",
    "    print(str(ibatch)==str(a))\n",
    "    display(ibatch)\n",
    "    "
   ]
  },
  {
   "cell_type": "markdown",
   "id": "d3b45a2a-61d4-416e-b7a3-4c2787c14a6a",
   "metadata": {},
   "source": [
    "# 实际输入：prompt+text----输出record"
   ]
  },
  {
   "cell_type": "markdown",
   "id": "0061e179-8584-410b-980a-2346976950aa",
   "metadata": {},
   "source": [
    "# 解码时使用prefix_allowed_tokens_fn限制生成时每一步的token_id的范围"
   ]
  },
  {
   "cell_type": "markdown",
   "id": "e3f6afc5-ef21-47b3-ae5a-9a5bc665be61",
   "metadata": {},
   "source": [
    "## 测试uie prefix_allowed_tokens_fn"
   ]
  },
  {
   "cell_type": "code",
   "execution_count": 36,
   "id": "a94ca817-50d9-4b82-aa80-56975818dd56",
   "metadata": {},
   "outputs": [
    {
     "name": "stdout",
     "output_type": "stream",
     "text": [
      "[1, 2, 3, 0]\n",
      "[1, 2, 3, 0, 1]\n",
      "[1, 2, 3, 0, 1, 2]\n",
      "[1, 2, 3, 0, 1, 2, 3]\n",
      "[1, 2, 3, 0, 1, 2, 3, 4]\n",
      "[1, 2, 3, 0, 1, 2, 3, 4, 5]\n",
      "[1, 2, 3, 0, 1, 2, 3, 4, 5, 6]\n",
      "[1, 2, 3, 0, 1, 2, 3, 4, 5, 6, 7]\n",
      "[1, 2, 3, 0, 1, 2, 3, 4, 5, 6, 7, 8]\n",
      "[1, 2, 3, 0, 1, 2, 3, 4, 5, 6, 7, 8, 9]\n"
     ]
    }
   ],
   "source": [
    "input_ids = [1,2,3]\n",
    "def test():\n",
    "    source=input_ids\n",
    "    return source\n",
    "def get_sour():\n",
    "    print(test())\n",
    "for i in range(10):\n",
    "    input_ids= input_ids+[i]\n",
    "    get_sour()\n",
    "    "
   ]
  },
  {
   "cell_type": "code",
   "execution_count": 42,
   "id": "07e855a6-0831-46ce-b60a-324f501f5453",
   "metadata": {},
   "outputs": [
    {
     "name": "stdout",
     "output_type": "stream",
     "text": [
      "[1, 2, 3]\n",
      "[1, 2, 3]\n",
      "[1, 2, 3]\n",
      "[1, 2, 3]\n",
      "[1, 2, 3]\n",
      "[1, 2, 3]\n",
      "[1, 2, 3]\n",
      "[1, 2, 3]\n",
      "[1, 2, 3]\n",
      "[1, 2, 3]\n"
     ]
    }
   ],
   "source": [
    "input_ids = {\"input_ids\":[1,2,3]}\n",
    "def test():\n",
    "    source=input_ids['input_ids']\n",
    "    return source\n",
    "def get_sour():\n",
    "    print(test())\n",
    "    \n",
    "def processing(sintid):\n",
    "    for i in range(10):\n",
    "        sintid= 1*[i]\n",
    "        get_sour()\n",
    "processing(input_ids['input_ids'])\n",
    "    "
   ]
  },
  {
   "cell_type": "markdown",
   "id": "7e49de23-6b51-47c0-84b3-3493ce8f987a",
   "metadata": {},
   "source": [
    "# eval时使用NLTK解码生成的文本\n",
    "## get_record_list()函数"
   ]
  },
  {
   "cell_type": "markdown",
   "id": "6009c586-54fe-4ad7-850d-7c8ce95ec9a4",
   "metadata": {},
   "source": [
    "### 例子验证"
   ]
  },
  {
   "cell_type": "code",
   "execution_count": 44,
   "id": "8d3c1ba4-e40f-4728-af44-012519ae6ebe",
   "metadata": {},
   "outputs": [],
   "source": [
    "from nltk import ParentedTree"
   ]
  },
  {
   "cell_type": "code",
   "execution_count": 69,
   "id": "3f852524-1b33-4a3d-8f49-5f86fed6c8b2",
   "metadata": {},
   "outputs": [],
   "source": [
    "tree = ParentedTree.fromstring(\"(S (NP(NNP John)) (VP (V runs)))\")"
   ]
  },
  {
   "cell_type": "code",
   "execution_count": null,
   "id": "977daa63-562a-41b7-b0b3-79211a0b36bc",
   "metadata": {},
   "outputs": [],
   "source": []
  },
  {
   "cell_type": "code",
   "execution_count": 70,
   "id": "22f31a21-bff6-4788-b3a1-c85447b6e5bb",
   "metadata": {
    "tags": []
   },
   "outputs": [
    {
     "data": {
      "text/plain": [
       "2"
      ]
     },
     "execution_count": 70,
     "metadata": {},
     "output_type": "execute_result"
    }
   ],
   "source": [
    "len(tree)"
   ]
  },
  {
   "cell_type": "code",
   "execution_count": 74,
   "id": "88690c21-d7be-4a3b-9d7b-7e6c4744cd9e",
   "metadata": {},
   "outputs": [],
   "source": [
    "def print_tree(tree):\n",
    "    for i in range(len(tree)):\n",
    "        print(f'第{i}个子树,长度为{len(tree[i])}, {tree[i]}')\n",
    "        for j in range(len(tree[i])):\n",
    "            print(f'      第{i}个子树的第{j}个子树,长度为{len(tree[i][j])}, {tree[i][j]}')"
   ]
  },
  {
   "cell_type": "code",
   "execution_count": 75,
   "id": "549b8743-ce76-40b7-9c61-656f22a212c3",
   "metadata": {},
   "outputs": [
    {
     "name": "stdout",
     "output_type": "stream",
     "text": [
      "第0个子树,长度为1, (NP (NNP John))\n",
      "      第0个子树的第0个子树,长度为1, (NNP John)\n",
      "第1个子树,长度为1, (VP (V runs))\n",
      "      第1个子树的第0个子树,长度为1, (V runs)\n"
     ]
    }
   ],
   "source": [
    "print_tree(tree)"
   ]
  },
  {
   "cell_type": "code",
   "execution_count": 49,
   "id": "b74692b7-cc2c-4c86-bd5e-ba03365021ac",
   "metadata": {},
   "outputs": [],
   "source": [
    "'''\n",
    "真实数据\n",
    "'''\n",
    "sample = \"<extra_id_0> <extra_id_0> organization <extra_id_5> Xinhua News Agency <extra_id_1> <extra_id_0> geographical social political <extra_id_5> Urumchi <extra_id_1> <extra_id_0> person <extra_id_5> reporters <extra_id_1> <extra_id_0> person <extra_id_5> Shengjiang Li <extra_id_1> <extra_id_0> person <extra_id_5> Jian ' gang Ding <extra_id_1> <extra_id_1>\"\n",
    "\n"
   ]
  },
  {
   "cell_type": "code",
   "execution_count": 50,
   "id": "193b59a6-c613-4998-a087-2944673dfa40",
   "metadata": {},
   "outputs": [
    {
     "data": {
      "text/plain": [
       "\"<extra_id_0> <extra_id_0> organization <extra_id_5> Xinhua News Agency <extra_id_1> <extra_id_0> geographical social political <extra_id_5> Urumchi <extra_id_1> <extra_id_0> person <extra_id_5> reporters <extra_id_1> <extra_id_0> person <extra_id_5> Shengjiang Li <extra_id_1> <extra_id_0> person <extra_id_5> Jian ' gang Ding <extra_id_1> <extra_id_1>\""
      ]
     },
     "execution_count": 50,
     "metadata": {},
     "output_type": "execute_result"
    }
   ],
   "source": [
    "sample"
   ]
  },
  {
   "cell_type": "code",
   "execution_count": 52,
   "id": "0d6103b2-94fa-4cbe-9e17-634622a3e061",
   "metadata": {},
   "outputs": [],
   "source": [
    "import re\n",
    "left_bracket = '【'\n",
    "right_bracket = '】'\n",
    "brackets = left_bracket + right_bracket\n",
    "\n",
    "split_bracket = re.compile(r\"<extra_id_\\d>\")\n",
    "\n",
    "\n",
    "def add_space(text):\n",
    "    \"\"\"\n",
    "    add space between special token\n",
    "\n",
    "\n",
    "\n",
    "    \"\"\"\n",
    "    new_text_list = list()\n",
    "    for item in zip(split_bracket.findall(text), split_bracket.split(text)[1:]):\n",
    "        new_text_list += item\n",
    "    return ' '.join(new_text_list)"
   ]
  },
  {
   "cell_type": "code",
   "execution_count": 60,
   "id": "6326812a-027e-4805-ae5b-ecbd5ea35a18",
   "metadata": {},
   "outputs": [],
   "source": [
    "def convert_bracket(text):\n",
    "    '''\n",
    "\n",
    "    org_text: \"<extra_id_0> <extra_id_0> location <extra_id_5> JAPAN <extra_id_1> <extra_id_0> person <extra_id_5> CHINA <extra_id_1> <extra_id_1>\"\n",
    "\n",
    "    add_space_text: <extra_id_0>   <extra_id_0>  location  <extra_id_5>  JAPAN  <extra_id_1>   <extra_id_0>  person  <extra_id_5>  CHINA  <extra_id_1>   <extra_id_1> \"\n",
    "\n",
    "    return_text: '【   【  location  <extra_id_5>  JAPAN  】   【  person  <extra_id_5>  CHINA  】   】 \"\\n'\n",
    "\n",
    "\n",
    "    :param text:\n",
    "    :return:\n",
    "    '''\n",
    "    text = add_space(text)\n",
    "    for start in [\"<extra_id_0>\"]:\n",
    "        text = text.replace(start, left_bracket)\n",
    "    for end in [\"<extra_id_1>\"]:\n",
    "        text = text.replace(end, right_bracket)\n",
    "    return text"
   ]
  },
  {
   "cell_type": "code",
   "execution_count": 61,
   "id": "0e28ae42-a5b9-4ddd-883a-bbdf0fc62fe1",
   "metadata": {},
   "outputs": [
    {
     "data": {
      "text/plain": [
       "[' ',\n",
       " ' organization ',\n",
       " ' Xinhua News Agency ',\n",
       " ' ',\n",
       " ' geographical social political ',\n",
       " ' Urumchi ',\n",
       " ' ',\n",
       " ' person ',\n",
       " ' reporters ',\n",
       " ' ',\n",
       " ' person ',\n",
       " ' Shengjiang Li ',\n",
       " ' ',\n",
       " ' person ',\n",
       " \" Jian ' gang Ding \",\n",
       " ' ',\n",
       " '']"
      ]
     },
     "execution_count": 61,
     "metadata": {},
     "output_type": "execute_result"
    }
   ],
   "source": [
    "split_bracket.split(sample)[1:]"
   ]
  },
  {
   "cell_type": "code",
   "execution_count": 62,
   "id": "77b33126-91ca-4a2e-8469-c90aa4f03d4d",
   "metadata": {},
   "outputs": [
    {
     "data": {
      "text/plain": [
       "17"
      ]
     },
     "execution_count": 62,
     "metadata": {},
     "output_type": "execute_result"
    }
   ],
   "source": [
    "len(split_bracket.split(sample)[1:])"
   ]
  },
  {
   "cell_type": "code",
   "execution_count": 63,
   "id": "448f0316-3d2f-4ec8-8cbf-123626f8d165",
   "metadata": {},
   "outputs": [
    {
     "data": {
      "text/plain": [
       "17"
      ]
     },
     "execution_count": 63,
     "metadata": {},
     "output_type": "execute_result"
    }
   ],
   "source": [
    "len(split_bracket.findall(sample))"
   ]
  },
  {
   "cell_type": "code",
   "execution_count": null,
   "id": "a0c1919e-40bc-422b-83a1-1bb8d06e3458",
   "metadata": {},
   "outputs": [],
   "source": []
  },
  {
   "cell_type": "code",
   "execution_count": null,
   "id": "5d83f10b-070e-4a48-822b-f3828ed209c3",
   "metadata": {},
   "outputs": [],
   "source": []
  },
  {
   "cell_type": "code",
   "execution_count": 64,
   "id": "3cba0fae-39bd-451f-9522-3f65a185c425",
   "metadata": {},
   "outputs": [
    {
     "data": {
      "text/plain": [
       "\"<extra_id_0>   <extra_id_0>  organization  <extra_id_5>  Xinhua News Agency  <extra_id_1>   <extra_id_0>  geographical social political  <extra_id_5>  Urumchi  <extra_id_1>   <extra_id_0>  person  <extra_id_5>  reporters  <extra_id_1>   <extra_id_0>  person  <extra_id_5>  Shengjiang Li  <extra_id_1>   <extra_id_0>  person  <extra_id_5>  Jian ' gang Ding  <extra_id_1>   <extra_id_1> \""
      ]
     },
     "execution_count": 64,
     "metadata": {},
     "output_type": "execute_result"
    }
   ],
   "source": [
    "add_space(sample)"
   ]
  },
  {
   "cell_type": "code",
   "execution_count": 86,
   "id": "9f12a3e0-6ff4-4deb-b080-9c7d0306f6b8",
   "metadata": {},
   "outputs": [],
   "source": [
    "gold1 = ParentedTree.fromstring(convert_bracket(add_space(sample)), brackets=brackets)"
   ]
  },
  {
   "cell_type": "code",
   "execution_count": 87,
   "id": "563187ed-d61d-4c9e-afd9-842f9173a8aa",
   "metadata": {},
   "outputs": [],
   "source": [
    "gold2= ParentedTree.fromstring(convert_bracket(sample), brackets=brackets)"
   ]
  },
  {
   "cell_type": "code",
   "execution_count": 96,
   "id": "3c4cf64b-bc98-4c6f-934d-b1e429379490",
   "metadata": {},
   "outputs": [],
   "source": [
    "#display(gold1[0])\n",
    "#output: ParentedTree('organization', ['<extra_id_5>', 'Xinhua', 'News', 'Agency'])"
   ]
  },
  {
   "cell_type": "code",
   "execution_count": 91,
   "id": "f5b54228-5e15-46fd-a045-48d2b3cec819",
   "metadata": {},
   "outputs": [
    {
     "data": {
      "text/plain": [
       "'organization'"
      ]
     },
     "execution_count": 91,
     "metadata": {},
     "output_type": "execute_result"
    }
   ],
   "source": [
    "gold1[0].label()"
   ]
  },
  {
   "cell_type": "code",
   "execution_count": 85,
   "id": "54d0af52-5992-4605-82d7-13da0151e9af",
   "metadata": {},
   "outputs": [
    {
     "name": "stdout",
     "output_type": "stream",
     "text": [
      "第0个子树,长度为4, (organization <extra_id_5> Xinhua News Agency)\n",
      "      第0个子树的第0个子树,长度为12, <extra_id_5>\n",
      "      第0个子树的第1个子树,长度为6, Xinhua\n",
      "      第0个子树的第2个子树,长度为4, News\n",
      "      第0个子树的第3个子树,长度为6, Agency\n",
      "第1个子树,长度为4, (geographical social political <extra_id_5> Urumchi)\n",
      "      第1个子树的第0个子树,长度为6, social\n",
      "      第1个子树的第1个子树,长度为9, political\n",
      "      第1个子树的第2个子树,长度为12, <extra_id_5>\n",
      "      第1个子树的第3个子树,长度为7, Urumchi\n",
      "第2个子树,长度为2, (person <extra_id_5> reporters)\n",
      "      第2个子树的第0个子树,长度为12, <extra_id_5>\n",
      "      第2个子树的第1个子树,长度为9, reporters\n",
      "第3个子树,长度为3, (person <extra_id_5> Shengjiang Li)\n",
      "      第3个子树的第0个子树,长度为12, <extra_id_5>\n",
      "      第3个子树的第1个子树,长度为10, Shengjiang\n",
      "      第3个子树的第2个子树,长度为2, Li\n",
      "第4个子树,长度为5, (person <extra_id_5> Jian ' gang Ding)\n",
      "      第4个子树的第0个子树,长度为12, <extra_id_5>\n",
      "      第4个子树的第1个子树,长度为4, Jian\n",
      "      第4个子树的第2个子树,长度为1, '\n",
      "      第4个子树的第3个子树,长度为4, gang\n",
      "      第4个子树的第4个子树,长度为4, Ding\n"
     ]
    }
   ],
   "source": [
    "print_tree(gold1)"
   ]
  },
  {
   "cell_type": "code",
   "execution_count": 79,
   "id": "99e72d3c-fb7b-4c50-a1fd-a99390c28a3e",
   "metadata": {},
   "outputs": [
    {
     "name": "stdout",
     "output_type": "stream",
     "text": [
      "第0个子树,长度为4, (organization <extra_id_5> Xinhua News Agency)\n",
      "      第0个子树的第0个子树,长度为12, <extra_id_5>\n",
      "      第0个子树的第1个子树,长度为6, Xinhua\n",
      "      第0个子树的第2个子树,长度为4, News\n",
      "      第0个子树的第3个子树,长度为6, Agency\n",
      "第1个子树,长度为4, (geographical social political <extra_id_5> Urumchi)\n",
      "      第1个子树的第0个子树,长度为6, social\n",
      "      第1个子树的第1个子树,长度为9, political\n",
      "      第1个子树的第2个子树,长度为12, <extra_id_5>\n",
      "      第1个子树的第3个子树,长度为7, Urumchi\n",
      "第2个子树,长度为2, (person <extra_id_5> reporters)\n",
      "      第2个子树的第0个子树,长度为12, <extra_id_5>\n",
      "      第2个子树的第1个子树,长度为9, reporters\n",
      "第3个子树,长度为3, (person <extra_id_5> Shengjiang Li)\n",
      "      第3个子树的第0个子树,长度为12, <extra_id_5>\n",
      "      第3个子树的第1个子树,长度为10, Shengjiang\n",
      "      第3个子树的第2个子树,长度为2, Li\n",
      "第4个子树,长度为5, (person <extra_id_5> Jian ' gang Ding)\n",
      "      第4个子树的第0个子树,长度为12, <extra_id_5>\n",
      "      第4个子树的第1个子树,长度为4, Jian\n",
      "      第4个子树的第2个子树,长度为1, '\n",
      "      第4个子树的第3个子树,长度为4, gang\n",
      "      第4个子树的第4个子树,长度为4, Ding\n"
     ]
    }
   ],
   "source": [
    "print_tree(gold2)"
   ]
  },
  {
   "cell_type": "code",
   "execution_count": 82,
   "id": "abf5a747-6e04-4232-a840-ed32026bdaf6",
   "metadata": {},
   "outputs": [
    {
     "data": {
      "text/plain": [
       "<bound method Tree.label of ParentedTree('organization', ['<extra_id_5>', 'Xinhua', 'News', 'Agency'])>"
      ]
     },
     "execution_count": 82,
     "metadata": {},
     "output_type": "execute_result"
    }
   ],
   "source": []
  },
  {
   "cell_type": "markdown",
   "id": "ec0a4291-8e42-4a09-ae9b-5b300bba903d",
   "metadata": {},
   "source": [
    "# compute metirc:\n",
    "## 使用F1计算预测和gold的set的交集\n",
    "## eval_pred() 函数\n",
    "## 不合理的结果会被剔除，比如 预测的span不在input text中\n",
    "### ⚠️ 原始版本没有处理异常结果\n"
   ]
  },
  {
   "cell_type": "code",
   "execution_count": null,
   "id": "36eaf599-91f9-49ab-974c-97b36b599e48",
   "metadata": {},
   "outputs": [],
   "source": []
  }
 ],
 "metadata": {
  "kernelspec": {
   "display_name": "python36",
   "language": "python",
   "name": "python36"
  },
  "language_info": {
   "codemirror_mode": {
    "name": "ipython",
    "version": 3
   },
   "file_extension": ".py",
   "mimetype": "text/x-python",
   "name": "python",
   "nbconvert_exporter": "python",
   "pygments_lexer": "ipython3",
   "version": "3.6.2"
  },
  "toc-autonumbering": true,
  "toc-showcode": false,
  "toc-showmarkdowntxt": true,
  "toc-showtags": false
 },
 "nbformat": 4,
 "nbformat_minor": 5
}
